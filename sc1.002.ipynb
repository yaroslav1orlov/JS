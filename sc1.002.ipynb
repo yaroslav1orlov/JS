{
 "cells": [
  {
   "cell_type": "code",
   "execution_count": 48,
   "id": "c091f63f-8c74-437f-8672-e5040d8be1e7",
   "metadata": {},
   "outputs": [
    {
     "data": {
      "image/png": "[encoded data removed]",
      "text/latex": [
       "$\\displaystyle 1.0$"
      ],
      "text/plain": [
       "1.0000000000000002"
      ]
     },
     "execution_count": 48,
     "metadata": {},
     "output_type": "execute_result"
    }
   ],
   "source": [
    "from sympy import *\n",
    "init_printing(use_unicode=False, wrap_line=False, no_global=True)\n",
    "\n",
    "x = Symbol('x')\n",
    "y = Symbol('y')\n",
    "expression = ((((7/9)-(47/72))/1.25)+(7/40))/(0.358-0.108)*1.6-(19/25)  \n",
    "expression"
   ]
  },
  {
   "cell_type": "code",
   "execution_count": 49,
   "id": "4003b909-4e5f-4817-a558-28c897195758",
   "metadata": {},
   "outputs": [
    {
     "data": {
      "image/png": "[encoded data removed]",
      "text/latex": [
       "$\\displaystyle 1.0$"
      ],
      "text/plain": [
       "1.0000000000000002"
      ]
     },
     "execution_count": 49,
     "metadata": {},
     "output_type": "execute_result"
    }
   ],
   "source": [
    "expression = ((((7/9)-(47/72))/1.25)+(7/40))/(0.358-0.108)*1.6-(19/25)  \n",
    "expression"
   ]
  },
  {
   "cell_type": "code",
   "execution_count": 50,
   "id": "56de7f9b-0367-48e7-ab8d-9cf3cd456c16",
   "metadata": {},
   "outputs": [
    {
     "data": {
      "image/png": "[encoded data removed]",
      "text/latex": [
       "$\\displaystyle 0.125$"
      ],
      "text/plain": [
       "0.125"
      ]
     },
     "execution_count": 50,
     "metadata": {},
     "output_type": "execute_result"
    }
   ],
   "source": [
    "(7/9)-(47/72) "
   ]
  },
  {
   "cell_type": "code",
   "execution_count": 51,
   "id": "b651f7c3-e568-42dc-9d63-cd0956cc4ed9",
   "metadata": {},
   "outputs": [
    {
     "data": {
      "image/png": "[encoded data removed]",
      "text/latex": [
       "$\\displaystyle 0.1$"
      ],
      "text/plain": [
       "0.1"
      ]
     },
     "execution_count": 51,
     "metadata": {},
     "output_type": "execute_result"
    }
   ],
   "source": [
    "(0.125/1.25)"
   ]
  },
  {
   "cell_type": "code",
   "execution_count": 52,
   "id": "fa35244e-9926-45b8-9168-30087401133a",
   "metadata": {},
   "outputs": [
    {
     "data": {
      "image/png": "[encoded data removed]",
      "text/latex": [
       "$\\displaystyle 0.275$"
      ],
      "text/plain": [
       "0.275"
      ]
     },
     "execution_count": 52,
     "metadata": {},
     "output_type": "execute_result"
    }
   ],
   "source": [
    "0.1+(7/40)"
   ]
  },
  {
   "cell_type": "code",
   "execution_count": 53,
   "id": "8749ddf6-061d-438b-8edd-1ed94527721b",
   "metadata": {},
   "outputs": [
    {
     "data": {
      "image/png": "[encoded data removed]",
      "text/latex": [
       "$\\displaystyle 1.1$"
      ],
      "text/plain": [
       "1.1"
      ]
     },
     "execution_count": 53,
     "metadata": {},
     "output_type": "execute_result"
    }
   ],
   "source": [
    "0.275/(0.358-0.108)"
   ]
  },
  {
   "cell_type": "code",
   "execution_count": 54,
   "id": "8bf3ac90-31ba-4508-9a04-d9f1e16f5d07",
   "metadata": {},
   "outputs": [
    {
     "data": {
      "image/png": "[encoded data removed]",
      "text/latex": [
       "$\\displaystyle 1.76$"
      ],
      "text/plain": [
       "1.7600000000000002"
      ]
     },
     "execution_count": 54,
     "metadata": {},
     "output_type": "execute_result"
    }
   ],
   "source": [
    "1.1*1.6"
   ]
  },
  {
   "cell_type": "code",
   "execution_count": 64,
   "id": "33765b07-58d1-4b5a-b79d-9b7567f92c02",
   "metadata": {},
   "outputs": [
    {
     "data": {
      "image/png": "[encoded data removed]",
      "text/latex": [
       "$\\displaystyle 1.0$"
      ],
      "text/plain": [
       "1.0"
      ]
     },
     "execution_count": 64,
     "metadata": {},
     "output_type": "execute_result"
    }
   ],
   "source": [
    "1.76-(19/25)"
   ]
  },
  {
   "cell_type": "code",
   "execution_count": null,
   "id": "000e7531-694b-44ec-ad71-7e21f94c6f47",
   "metadata": {},
   "outputs": [],
   "source": []
  },
  {
   "cell_type": "code",
   "execution_count": null,
   "id": "5ed0c3ad-53ed-4137-9833-e323bf56f45f",
   "metadata": {},
   "outputs": [],
   "source": []
  },
  {
   "cell_type": "code",
   "execution_count": null,
   "id": "f0898117-e575-4bfc-a1b7-2fcdde510e66",
   "metadata": {},
   "outputs": [],
   "source": []
  },
  {
   "cell_type": "code",
   "execution_count": null,
   "id": "b4f7d401-f9ca-4a42-8beb-2261ccf4f743",
   "metadata": {},
   "outputs": [],
   "source": []
  },
  {
   "cell_type": "code",
   "execution_count": null,
   "id": "9914576a-f154-449b-a579-b748d9132f83",
   "metadata": {},
   "outputs": [],
   "source": []
  },
  {
   "cell_type": "code",
   "execution_count": null,
   "id": "11a1d1e0-1c46-4e4f-90ca-85ba75f3dcc4",
   "metadata": {},
   "outputs": [],
   "source": []
  },
  {
   "cell_type": "code",
   "execution_count": null,
   "id": "507a624f-4900-4459-b39f-3ef98a6c0a76",
   "metadata": {},
   "outputs": [],
   "source": []
  },
  {
   "cell_type": "code",
   "execution_count": null,
   "id": "8f1d1efe-763b-41be-8b2e-15fde0f32ecd",
   "metadata": {},
   "outputs": [],
   "source": []
  },
  {
   "cell_type": "code",
   "execution_count": null,
   "id": "f6f400e9-4c5a-463d-8c6f-5245998f5f5f",
   "metadata": {},
   "outputs": [],
   "source": []
  },
  {
   "cell_type": "code",
   "execution_count": null,
   "id": "8d0f8985-0d7d-4439-bd2d-1845fd7a03ac",
   "metadata": {},
   "outputs": [],
   "source": []
  },
  {
   "cell_type": "code",
   "execution_count": null,
   "id": "710b946d-aec8-469a-a89e-0916311faf31",
   "metadata": {},
   "outputs": [],
   "source": []
  },
  {
   "cell_type": "code",
   "execution_count": null,
   "id": "215890fc-23ef-423c-a162-4320f3764706",
   "metadata": {},
   "outputs": [],
   "source": []
  },
  {
   "cell_type": "code",
   "execution_count": null,
   "id": "76659057-2e54-440a-be41-2dfa41eb8f68",
   "metadata": {},
   "outputs": [],
   "source": []
  },
  {
   "cell_type": "code",
   "execution_count": null,
   "id": "ed87070b-c6b4-493d-ba79-981295a326b3",
   "metadata": {},
   "outputs": [],
   "source": []
  },
  {
   "cell_type": "code",
   "execution_count": null,
   "id": "e0a0f91f-814b-484a-945b-71e1fdd4c97e",
   "metadata": {},
   "outputs": [],
   "source": []
  },
  {
   "cell_type": "code",
   "execution_count": null,
   "id": "bd1cfbaf-f3fb-43e1-8302-c4a6a5dd8134",
   "metadata": {},
   "outputs": [],
   "source": []
  },
  {
   "cell_type": "code",
   "execution_count": null,
   "id": "c456f9a4-bdee-48a7-aa85-a9a4a760330a",
   "metadata": {},
   "outputs": [],
   "source": []
  },
  {
   "cell_type": "code",
   "execution_count": null,
   "id": "94dc193c-8704-49c9-b717-2f9a5acaae9c",
   "metadata": {},
   "outputs": [],
   "source": []
  },
  {
   "cell_type": "code",
   "execution_count": null,
   "id": "151df6a3-7511-4077-a385-ea3af9903625",
   "metadata": {},
   "outputs": [],
   "source": []
  },
  {
   "cell_type": "code",
   "execution_count": null,
   "id": "8f92f757-1a43-45a3-b522-d74b267a1806",
   "metadata": {},
   "outputs": [],
   "source": []
  },
  {
   "cell_type": "code",
   "execution_count": null,
   "id": "6eb4ffc3-b658-4ad5-953a-2b3f8c029ff7",
   "metadata": {},
   "outputs": [],
   "source": []
  },
  {
   "cell_type": "code",
   "execution_count": null,
   "id": "97d50bd3-43fc-4774-b360-220e12d85f8f",
   "metadata": {},
   "outputs": [],
   "source": []
  },
  {
   "cell_type": "code",
   "execution_count": null,
   "id": "73344ae2-d52b-4bb4-a9aa-6185036bb1e5",
   "metadata": {},
   "outputs": [],
   "source": []
  },
  {
   "cell_type": "code",
   "execution_count": null,
   "id": "93fe94d4-0ff2-417c-8058-e58e71ba51d4",
   "metadata": {},
   "outputs": [],
   "source": []
  },
  {
   "cell_type": "code",
   "execution_count": null,
   "id": "4e756146-a36e-40cf-8d84-e7104153a29a",
   "metadata": {},
   "outputs": [],
   "source": []
  },
  {
   "cell_type": "code",
   "execution_count": null,
   "id": "81340f67-9295-437a-9963-b57a7454401f",
   "metadata": {},
   "outputs": [],
   "source": []
  },
  {
   "cell_type": "code",
   "execution_count": null,
   "id": "3374411e-a603-4ebe-b912-39dbf82b5928",
   "metadata": {},
   "outputs": [],
   "source": []
  },
  {
   "cell_type": "code",
   "execution_count": null,
   "id": "b76860b9-2be5-41bc-a4c2-75b5daa1a207",
   "metadata": {},
   "outputs": [],
   "source": []
  },
  {
   "cell_type": "code",
   "execution_count": null,
   "id": "89b18bb2-f7db-4f9c-9d5b-c3d9598804c1",
   "metadata": {},
   "outputs": [],
   "source": []
  },
  {
   "cell_type": "code",
   "execution_count": null,
   "id": "ecc38d32-5868-4408-a1a0-63dd6f44e691",
   "metadata": {},
   "outputs": [],
   "source": []
  },
  {
   "cell_type": "code",
   "execution_count": null,
   "id": "978c3903-ee73-4e4f-97b8-1311680eb49d",
   "metadata": {},
   "outputs": [],
   "source": []
  }
 ],
 "metadata": {
  "kernelspec": {
   "display_name": "Python 3 (ipykernel)",
   "language": "python",
   "name": "python3"
  },
  "language_info": {
   "codemirror_mode": {
    "name": "ipython",
    "version": 3
   },
   "file_extension": ".py",
   "mimetype": "text/x-python",
   "name": "python",
   "nbconvert_exporter": "python",
   "pygments_lexer": "ipython3",
   "version": "3.9.12"
  }
 },
 "nbformat": 4,
 "nbformat_minor": 5
}
