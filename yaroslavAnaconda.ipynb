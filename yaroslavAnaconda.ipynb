{
 "cells": [
  {
   "cell_type": "code",
   "execution_count": 8,
   "id": "0e8d42cc-1e8e-4022-af2c-0aea7208a0fc",
   "metadata": {},
   "outputs": [
    {
     "data": {
      "text/plain": [
       "32.0"
      ]
     },
     "execution_count": 8,
     "metadata": {},
     "output_type": "execute_result"
    }
   ],
   "source": [
    "((0.5/1.25+(7/5)/(1+(4/7))-(3/11))*3)/((1.5+(1/4))/(18+(1/3)))"
   ]
  },
  {
   "cell_type": "code",
   "execution_count": 9,
   "id": "be032e09-1837-4409-85c8-0d0484ccf1f8",
   "metadata": {},
   "outputs": [
    {
     "data": {
      "text/plain": [
       "32.0"
      ]
     },
     "execution_count": 9,
     "metadata": {},
     "output_type": "execute_result"
    }
   ],
   "source": [
    "((0.5/1.25+(7/5)/(1+(4/7))-(3/11))*3)/((1.5+(1/4))/(18+(1/3)))"
   ]
  },
  {
   "cell_type": "code",
   "execution_count": 10,
   "id": "fcf2d1ef-0db6-4155-9270-876fcf7c82c9",
   "metadata": {},
   "outputs": [
    {
     "data": {
      "text/plain": [
       "0.4"
      ]
     },
     "execution_count": 10,
     "metadata": {},
     "output_type": "execute_result"
    }
   ],
   "source": [
    "0.5/1.25"
   ]
  },
  {
   "cell_type": "code",
   "execution_count": null,
   "id": "69f1575a-8ae4-4d05-913b-a0b9320329e8",
   "metadata": {},
   "outputs": [],
   "source": []
  }
 ],
 "metadata": {
  "kernelspec": {
   "display_name": "Python 3 (ipykernel)",
   "language": "python",
   "name": "python3"
  },
  "language_info": {
   "codemirror_mode": {
    "name": "ipython",
    "version": 3
   },
   "file_extension": ".py",
   "mimetype": "text/x-python",
   "name": "python",
   "nbconvert_exporter": "python",
   "pygments_lexer": "ipython3",
   "version": "3.9.12"
  }
 },
 "nbformat": 4,
 "nbformat_minor": 5
}
