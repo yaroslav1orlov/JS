{
 "cells": [
  {
   "cell_type": "code",
   "execution_count": 1,
   "id": "a29588e0-113d-4a95-945e-17cbfa6b264a",
   "metadata": {},
   "outputs": [
    {
     "data": {
      "text/plain": [
       "32.0"
      ]
     },
     "execution_count": 1,
     "metadata": {},
     "output_type": "execute_result"
    }
   ],
   "source": [
    "((0.5/1.25+(7/5)/(1+(4/7))-(3/11))*3)/((1.5+(1/4))/(18+(1/3)))"
   ]
  },
  {
   "cell_type": "code",
   "execution_count": null,
   "id": "c84a14b5-2aec-4b74-a06e-edf5afab1d55",
   "metadata": {},
   "outputs": [],
   "source": []
  }
 ],
 "metadata": {
  "kernelspec": {
   "display_name": "Python 3 (ipykernel)",
   "language": "python",
   "name": "python3"
  },
  "language_info": {
   "codemirror_mode": {
    "name": "ipython",
    "version": 3
   },
   "file_extension": ".py",
   "mimetype": "text/x-python",
   "name": "python",
   "nbconvert_exporter": "python",
   "pygments_lexer": "ipython3",
   "version": "3.9.12"
  }
 },
 "nbformat": 4,
 "nbformat_minor": 5
}
